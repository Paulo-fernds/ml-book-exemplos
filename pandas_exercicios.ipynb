{
  "nbformat": 4,
  "nbformat_minor": 0,
  "metadata": {
    "colab": {
      "name": "pandas-exercicios",
      "provenance": []
    },
    "kernelspec": {
      "name": "python3",
      "display_name": "Python 3"
    },
    "language_info": {
      "name": "python"
    }
  },
  "cells": [
    {
      "cell_type": "markdown",
      "source": [
        "## Prática\n",
        "\n",
        "Este notebook serve para você praticar o que viu no livro.\n",
        "\n",
        "Pode haver mais de uma maneira diferente de completar um exercício.\n",
        "\n",
        "Os exercícios são baseados no conteúdo do livro.\n",
        "\n",
        "Para mais referências e recursos, fica a sugestão de consultar a [documentação do Pandas.](https://pandas.pydata.org/pandas-docs/stable/)"
      ],
      "metadata": {
        "id": "0xw3J_IeVyq3"
      }
    },
    {
      "cell_type": "code",
      "execution_count": 1,
      "metadata": {
        "id": "X1Q0xVaxVr9V"
      },
      "outputs": [],
      "source": [
        "# Importe o pandas"
      ]
    },
    {
      "cell_type": "code",
      "source": [
        "# Crie uma Série com 3 cores diferentes"
      ],
      "metadata": {
        "id": "rlErNlrPWo_7"
      },
      "execution_count": 2,
      "outputs": []
    },
    {
      "cell_type": "code",
      "source": [
        "# Visualize os dados criados na Série"
      ],
      "metadata": {
        "id": "FhyqncTiWuxA"
      },
      "execution_count": 3,
      "outputs": []
    },
    {
      "cell_type": "code",
      "source": [
        "# Crie uma Série com 3 tipos de fabricantes de carro"
      ],
      "metadata": {
        "id": "IH4Tb4fhW2VB"
      },
      "execution_count": 4,
      "outputs": []
    },
    {
      "cell_type": "code",
      "source": [
        "# Crie um DataFrame combinando as duas Séries"
      ],
      "metadata": {
        "id": "YAugkW1EW9EI"
      },
      "execution_count": 5,
      "outputs": []
    },
    {
      "cell_type": "code",
      "source": [
        "# Importe o csv \"venda-de-carros.csv\" em visualize o DataFrame"
      ],
      "metadata": {
        "id": "GvlkmBi3XGi1"
      },
      "execution_count": 6,
      "outputs": []
    },
    {
      "cell_type": "code",
      "source": [
        "# Verifique os diferentes tipos de dados do DataFrame"
      ],
      "metadata": {
        "id": "rI5eHevAXTUB"
      },
      "execution_count": 7,
      "outputs": []
    },
    {
      "cell_type": "code",
      "source": [
        "# Verifique as informações estatísticas do DataFrame usando .describe()"
      ],
      "metadata": {
        "id": "OE_yasEoXb17"
      },
      "execution_count": 8,
      "outputs": []
    },
    {
      "cell_type": "code",
      "source": [
        "# Liste mais informações sobre o DataFrame usando a função info()"
      ],
      "metadata": {
        "id": "L0aaQ8IFXqWL"
      },
      "execution_count": 9,
      "outputs": []
    },
    {
      "cell_type": "code",
      "source": [
        "# Liste o nome de todas as colunas do DataFrame"
      ],
      "metadata": {
        "id": "khmCWEnFYHyN"
      },
      "execution_count": 10,
      "outputs": []
    },
    {
      "cell_type": "code",
      "source": [
        "# Exiba apenas as 5 primeiras linhas do DataFrame"
      ],
      "metadata": {
        "id": "JxAGoawHYM3w"
      },
      "execution_count": 11,
      "outputs": []
    },
    {
      "cell_type": "code",
      "source": [
        "# Exiba as 5 últimas linhas do DataFrame"
      ],
      "metadata": {
        "id": "yBfoLbgJYUr_"
      },
      "execution_count": 12,
      "outputs": []
    },
    {
      "cell_type": "code",
      "source": [
        "# Utilize .loc para selecionar os dados da linha de índice 3 do DataFrame"
      ],
      "metadata": {
        "id": "dUS_98yBYXo8"
      },
      "execution_count": 13,
      "outputs": []
    },
    {
      "cell_type": "code",
      "source": [
        "# Utilize .iloc para exibir os dados que estão na 5° posição do DataFrame"
      ],
      "metadata": {
        "id": "rSTtiZZMYiKx"
      },
      "execution_count": 14,
      "outputs": []
    },
    {
      "cell_type": "code",
      "source": [
        "# Selecione a coluna Quilometragem"
      ],
      "metadata": {
        "id": "GqvHWQgKYs8T"
      },
      "execution_count": 15,
      "outputs": []
    },
    {
      "cell_type": "code",
      "source": [
        "# Calcule a média da coluna Quilometragem"
      ],
      "metadata": {
        "id": "ZY07R0fXY5PY"
      },
      "execution_count": 16,
      "outputs": []
    },
    {
      "cell_type": "code",
      "source": [
        "# Liste os carros que possuem uma quilometragem maior que 100.000"
      ],
      "metadata": {
        "id": "v2hf7yI0ZB-s"
      },
      "execution_count": 17,
      "outputs": []
    },
    {
      "cell_type": "code",
      "source": [
        "# Agrupe as colunas pelo fabricante e calcule a média das outras colunas"
      ],
      "metadata": {
        "id": "EACSY4tJZJx-"
      },
      "execution_count": 18,
      "outputs": []
    },
    {
      "cell_type": "code",
      "source": [
        "# Converta a coluna Preco para dados numéricos \"float64\""
      ],
      "metadata": {
        "id": "EPj07W4bZSIt"
      },
      "execution_count": 19,
      "outputs": []
    },
    {
      "cell_type": "code",
      "source": [
        ""
      ],
      "metadata": {
        "id": "xYr1EH-MZr_V"
      },
      "execution_count": 19,
      "outputs": []
    }
  ]
}